{
  "nbformat": 4,
  "nbformat_minor": 0,
  "metadata": {
    "colab": {
      "name": "Semi_final.ipynb",
      "provenance": [],
      "include_colab_link": true
    },
    "kernelspec": {
      "name": "python3",
      "display_name": "Python 3"
    }
  },
  "cells": [
    {
      "cell_type": "markdown",
      "metadata": {
        "id": "view-in-github",
        "colab_type": "text"
      },
      "source": [
        "<a href=\"https://colab.research.google.com/github/MariaRegina/GML/blob/master/Trabalho_Python.ipynb\" target=\"_parent\"><img src=\"https://colab.research.google.com/assets/colab-badge.svg\" alt=\"Open In Colab\"/></a>"
      ]
    },
    {
      "cell_type": "code",
      "metadata": {
        "id": "TZLHTniNRWVR",
        "colab_type": "code",
        "colab": {}
      },
      "source": [
        "import pandas as pd\n",
        "data = pd.read_excel ('Geral.xlsx')"
      ],
      "execution_count": 0,
      "outputs": []
    },
    {
      "cell_type": "code",
      "metadata": {
        "id": "IQgUIfT0Rshc",
        "colab_type": "code",
        "outputId": "e0b1fb6c-0920-4a50-d446-635fcbfa8bc6",
        "colab": {
          "base_uri": "https://localhost:8080/",
          "height": 173
        }
      },
      "source": [
        "data\n"
      ],
      "execution_count": 3,
      "outputs": [
        {
          "output_type": "execute_result",
          "data": {
            "text/html": [
              "<div>\n",
              "<style scoped>\n",
              "    .dataframe tbody tr th:only-of-type {\n",
              "        vertical-align: middle;\n",
              "    }\n",
              "\n",
              "    .dataframe tbody tr th {\n",
              "        vertical-align: top;\n",
              "    }\n",
              "\n",
              "    .dataframe thead th {\n",
              "        text-align: right;\n",
              "    }\n",
              "</style>\n",
              "<table border=\"1\" class=\"dataframe\">\n",
              "  <thead>\n",
              "    <tr style=\"text-align: right;\">\n",
              "      <th></th>\n",
              "      <th>Data</th>\n",
              "      <th>Recuperados</th>\n",
              "      <th>Confirmados</th>\n",
              "      <th>Mortos</th>\n",
              "    </tr>\n",
              "  </thead>\n",
              "  <tbody>\n",
              "    <tr>\n",
              "      <th>0</th>\n",
              "      <td>1</td>\n",
              "      <td>0</td>\n",
              "      <td>0</td>\n",
              "      <td>0</td>\n",
              "    </tr>\n",
              "    <tr>\n",
              "      <th>1</th>\n",
              "      <td>2</td>\n",
              "      <td>0</td>\n",
              "      <td>2</td>\n",
              "      <td>0</td>\n",
              "    </tr>\n",
              "    <tr>\n",
              "      <th>2</th>\n",
              "      <td>3</td>\n",
              "      <td>127</td>\n",
              "      <td>5717</td>\n",
              "      <td>201</td>\n",
              "    </tr>\n",
              "    <tr>\n",
              "      <th>3</th>\n",
              "      <td>4</td>\n",
              "      <td>25318</td>\n",
              "      <td>45757</td>\n",
              "      <td>2906</td>\n",
              "    </tr>\n",
              "  </tbody>\n",
              "</table>\n",
              "</div>"
            ],
            "text/plain": [
              "   Data  Recuperados  Confirmados  Mortos\n",
              "0     1            0            0       0\n",
              "1     2            0            2       0\n",
              "2     3          127         5717     201\n",
              "3     4        25318        45757    2906"
            ]
          },
          "metadata": {
            "tags": []
          },
          "execution_count": 3
        }
      ]
    },
    {
      "cell_type": "code",
      "metadata": {
        "id": "NGydn_mPNuEg",
        "colab_type": "code",
        "colab": {}
      },
      "source": [
        "data.Confirmados.plot()\n"
      ],
      "execution_count": 0,
      "outputs": []
    },
    {
      "cell_type": "code",
      "metadata": {
        "id": "cg_ykQ3DlCTa",
        "colab_type": "code",
        "colab": {}
      },
      "source": [
        "data.Mortos.plot()\n"
      ],
      "execution_count": 0,
      "outputs": []
    },
    {
      "cell_type": "code",
      "metadata": {
        "id": "twgV-YE7t6D1",
        "colab_type": "code",
        "colab": {}
      },
      "source": [
        "\n",
        "data.Recuperados.plot()\n"
      ],
      "execution_count": 0,
      "outputs": []
    },
    {
      "cell_type": "code",
      "metadata": {
        "id": "aGvsTX5mt0Aw",
        "colab_type": "code",
        "outputId": "4f88a19e-0115-4eb6-f42b-1e5bd06f6664",
        "colab": {
          "base_uri": "https://localhost:8080/",
          "height": 68
        }
      },
      "source": [
        "x=data.Data\n",
        "y=data.Confirmados\n",
        "y=y.array\n",
        "x=x.array\n",
        "x"
      ],
      "execution_count": 7,
      "outputs": [
        {
          "output_type": "execute_result",
          "data": {
            "text/plain": [
              "<PandasArray>\n",
              "[1, 2, 3, 4]\n",
              "Length: 4, dtype: int64"
            ]
          },
          "metadata": {
            "tags": []
          },
          "execution_count": 7
        }
      ]
    },
    {
      "cell_type": "code",
      "metadata": {
        "id": "CE0g8w_7t6hO",
        "colab_type": "code",
        "outputId": "cfe705cd-ea9b-42ee-b13f-9d2831e7835c",
        "colab": {
          "base_uri": "https://localhost:8080/",
          "height": 68
        }
      },
      "source": [
        "y"
      ],
      "execution_count": 9,
      "outputs": [
        {
          "output_type": "execute_result",
          "data": {
            "text/plain": [
              "<PandasArray>\n",
              "[0, 2, 5717, 45757]\n",
              "Length: 4, dtype: int64"
            ]
          },
          "metadata": {
            "tags": []
          },
          "execution_count": 9
        }
      ]
    },
    {
      "cell_type": "code",
      "metadata": {
        "id": "rpz71JJ-0x5s",
        "colab_type": "code",
        "colab": {}
      },
      "source": [
        "import numpy as np\n",
        "def getNDDCoeffs(x, y):\n",
        "    \"\"\" Creates NDD pyramid and extracts coeffs \"\"\"\n",
        "    n = np.shape(y)[0]\n",
        "    pyramid = np.zeros([n, n]) # Create a square matrix to hold pyramid\n",
        "    pyramid[::,0] = y # first column is y\n",
        "    for j in range(1,n):\n",
        "        for i in range(n-j):\n",
        "            # create pyramid by updating other columns\n",
        "            pyramid[i][j] = (pyramid[i+1][j-1] - pyramid[i][j-1]) / (x[i+j] - x[i])\n",
        "    return pyramid[0] # return first row\n",
        "\n",
        "coeff_vector = getNDDCoeffs(x, y)\n",
        "coeff_vector"
      ],
      "execution_count": 0,
      "outputs": []
    },
    {
      "cell_type": "code",
      "metadata": {
        "id": "h-FKbBQYpS89",
        "colab_type": "code",
        "colab": {}
      },
      "source": [
        "final_pol = np.polynomial.Polynomial([0.]) # our target polynomial\n",
        "n = coeff_vector.shape[0] # get number of coeffs\n",
        "for i in range(n):\n",
        "    p = np.polynomial.Polynomial([1.]) # create a dummy polynomial\n",
        "    for j in range(i):\n",
        "        # each vector has degree of i\n",
        "        # their terms are dependant on 'x' values\n",
        "        p_temp = np.polynomial.Polynomial([-x[j], 1.]) # (x - x_j)\n",
        "        p = np.polymul(p, p_temp) # multiply dummy with expression\n",
        "    p *= coeff_vector[i] # apply coefficient\n",
        "    final_pol = np.polyadd(final_pol, p) # add to target polynomial\n",
        "\n",
        "p = np.flip(final_pol[0].coef, axis=0)\n"
      ],
      "execution_count": 0,
      "outputs": []
    },
    {
      "cell_type": "code",
      "metadata": {
        "id": "My25Pzyi_ET6",
        "colab_type": "code",
        "colab": {}
      },
      "source": [
        "teste1=p"
      ],
      "execution_count": 0,
      "outputs": []
    },
    {
      "cell_type": "code",
      "metadata": {
        "id": "jBHx4sVhAB4h",
        "colab_type": "code",
        "outputId": "1b34ad81-a66e-4adb-ed64-c7f352f3cef8",
        "colab": {
          "base_uri": "https://localhost:8080/",
          "height": 68
        }
      },
      "source": [
        "x=data.Data\n",
        "y=data.Mortos\n",
        "y=y.array\n",
        "x=x.array\n",
        "x"
      ],
      "execution_count": 15,
      "outputs": [
        {
          "output_type": "execute_result",
          "data": {
            "text/plain": [
              "<PandasArray>\n",
              "[1, 2, 3, 4]\n",
              "Length: 4, dtype: int64"
            ]
          },
          "metadata": {
            "tags": []
          },
          "execution_count": 15
        }
      ]
    },
    {
      "cell_type": "code",
      "metadata": {
        "id": "zFs4C0KjIRCK",
        "colab_type": "code",
        "outputId": "39cbd817-d0f3-48ab-c680-b20fbc3531f2",
        "colab": {
          "base_uri": "https://localhost:8080/",
          "height": 68
        }
      },
      "source": [
        "y"
      ],
      "execution_count": 16,
      "outputs": [
        {
          "output_type": "execute_result",
          "data": {
            "text/plain": [
              "<PandasArray>\n",
              "[0, 0, 201, 2906]\n",
              "Length: 4, dtype: int64"
            ]
          },
          "metadata": {
            "tags": []
          },
          "execution_count": 16
        }
      ]
    },
    {
      "cell_type": "code",
      "metadata": {
        "id": "6o8woCYc2fUp",
        "colab_type": "code",
        "outputId": "d3bf82b4-cf0d-4400-bc23-cf7dc0c5b58c",
        "colab": {
          "base_uri": "https://localhost:8080/",
          "height": 34
        }
      },
      "source": [
        "import numpy as np\n",
        "def getNDDCoeffs(x, y):\n",
        "    \"\"\" Creates NDD pyramid and extracts coeffs \"\"\"\n",
        "    n = np.shape(y)[0]\n",
        "    pyramid = np.zeros([n, n]) # Create a square matrix to hold pyramid\n",
        "    pyramid[::,0] = y # first column is y\n",
        "    for j in range(1,n):\n",
        "        for i in range(n-j):\n",
        "            # create pyramid by updating other columns\n",
        "            pyramid[i][j] = (pyramid[i+1][j-1] - pyramid[i][j-1]) / (x[i+j] - x[i])\n",
        "    return pyramid[0] # return first row\n",
        "\n",
        "coeff_vector = getNDDCoeffs(x, y)\n",
        "coeff_vector"
      ],
      "execution_count": 17,
      "outputs": [
        {
          "output_type": "execute_result",
          "data": {
            "text/plain": [
              "array([  0.        ,   0.        , 100.5       , 383.83333333])"
            ]
          },
          "metadata": {
            "tags": []
          },
          "execution_count": 17
        }
      ]
    },
    {
      "cell_type": "code",
      "metadata": {
        "id": "a-4tHn0b-BAg",
        "colab_type": "code",
        "colab": {}
      },
      "source": [
        "final_pol = np.polynomial.Polynomial([0.]) # our target polynomial\n",
        "n = coeff_vector.shape[0] # get number of coeffs\n",
        "for i in range(n):\n",
        "    p = np.polynomial.Polynomial([1.]) # create a dummy polynomial\n",
        "    for j in range(i):\n",
        "        # each vector has degree of i\n",
        "        # their terms are dependant on 'x' values\n",
        "        p_temp = np.polynomial.Polynomial([-x[j], 1.]) # (x - x_j)\n",
        "        p = np.polymul(p, p_temp) # multiply dummy with expression\n",
        "    p *= coeff_vector[i] # apply coefficient\n",
        "    final_pol = np.polyadd(final_pol, p) # add to target polynomial\n",
        "\n",
        "p = np.flip(final_pol[0].coef, axis=0)"
      ],
      "execution_count": 0,
      "outputs": []
    },
    {
      "cell_type": "code",
      "metadata": {
        "id": "6jP9Apvm-Df8",
        "colab_type": "code",
        "outputId": "ee78ec73-96ec-40e2-edd2-cd6037766268",
        "colab": {
          "base_uri": "https://localhost:8080/",
          "height": 34
        }
      },
      "source": [
        "teste2=p\n",
        "teste2"
      ],
      "execution_count": 19,
      "outputs": [
        {
          "output_type": "execute_result",
          "data": {
            "text/plain": [
              "array([  383.83333333, -2202.5       ,  3920.66666667, -2102.        ])"
            ]
          },
          "metadata": {
            "tags": []
          },
          "execution_count": 19
        }
      ]
    },
    {
      "cell_type": "code",
      "metadata": {
        "id": "6R4HzW2t-PJx",
        "colab_type": "code",
        "outputId": "a26279e4-ff42-4a0b-afdb-78c1f0a1be77",
        "colab": {
          "base_uri": "https://localhost:8080/",
          "height": 68
        }
      },
      "source": [
        "x=data.Data\n",
        "y=data.Recuperados\n",
        "y=y.array\n",
        "x=x.array\n",
        "x"
      ],
      "execution_count": 20,
      "outputs": [
        {
          "output_type": "execute_result",
          "data": {
            "text/plain": [
              "<PandasArray>\n",
              "[1, 2, 3, 4]\n",
              "Length: 4, dtype: int64"
            ]
          },
          "metadata": {
            "tags": []
          },
          "execution_count": 20
        }
      ]
    },
    {
      "cell_type": "code",
      "metadata": {
        "id": "B8fHf7aVAOHK",
        "colab_type": "code",
        "outputId": "02ebe331-4d57-429e-ed0d-c81c36370fe1",
        "colab": {
          "base_uri": "https://localhost:8080/",
          "height": 68
        }
      },
      "source": [
        "y\n"
      ],
      "execution_count": 21,
      "outputs": [
        {
          "output_type": "execute_result",
          "data": {
            "text/plain": [
              "<PandasArray>\n",
              "[0, 0, 127, 25318]\n",
              "Length: 4, dtype: int64"
            ]
          },
          "metadata": {
            "tags": []
          },
          "execution_count": 21
        }
      ]
    },
    {
      "cell_type": "code",
      "metadata": {
        "id": "th-SVApyASVo",
        "colab_type": "code",
        "outputId": "e26348d5-1d24-4fae-a770-790fc9f5cb48",
        "colab": {
          "base_uri": "https://localhost:8080/",
          "height": 34
        }
      },
      "source": [
        "import numpy as np\n",
        "def getNDDCoeffs(x, y):\n",
        "    \"\"\" Creates NDD pyramid and extracts coeffs \"\"\"\n",
        "    n = np.shape(y)[0]\n",
        "    pyramid = np.zeros([n, n]) # Create a square matrix to hold pyramid\n",
        "    pyramid[::,0] = y # first column is y\n",
        "    for j in range(1,n):\n",
        "        for i in range(n-j):\n",
        "            # create pyramid by updating other columns\n",
        "            pyramid[i][j] = (pyramid[i+1][j-1] - pyramid[i][j-1]) / (x[i+j] - x[i])\n",
        "    return pyramid[0] # return first row\n",
        "\n",
        "coeff_vector = getNDDCoeffs(x, y)\n",
        "coeff_vector"
      ],
      "execution_count": 22,
      "outputs": [
        {
          "output_type": "execute_result",
          "data": {
            "text/plain": [
              "array([   0.        ,    0.        ,   63.5       , 4156.16666667])"
            ]
          },
          "metadata": {
            "tags": []
          },
          "execution_count": 22
        }
      ]
    },
    {
      "cell_type": "code",
      "metadata": {
        "id": "e_6rEML2AU6y",
        "colab_type": "code",
        "colab": {}
      },
      "source": [
        "final_pol = np.polynomial.Polynomial([0.]) # our target polynomial\n",
        "n = coeff_vector.shape[0] # get number of coeffs\n",
        "for i in range(n):\n",
        "    p = np.polynomial.Polynomial([1.]) # create a dummy polynomial\n",
        "    for j in range(i):\n",
        "        # each vector has degree of i\n",
        "        # their terms are dependant on 'x' values\n",
        "        p_temp = np.polynomial.Polynomial([-x[j], 1.]) # (x - x_j)\n",
        "        p = np.polymul(p, p_temp) # multiply dummy with expression\n",
        "    p *= coeff_vector[i] # apply coefficient\n",
        "    final_pol = np.polyadd(final_pol, p) # add to target polynomial\n",
        "\n",
        "p = np.flip(final_pol[0].coef, axis=0)"
      ],
      "execution_count": 0,
      "outputs": []
    },
    {
      "cell_type": "code",
      "metadata": {
        "id": "gackQ0r_AXWm",
        "colab_type": "code",
        "outputId": "369e2c11-b8d9-43d9-fe3d-8c0ccd95a71a",
        "colab": {
          "base_uri": "https://localhost:8080/",
          "height": 34
        }
      },
      "source": [
        "teste3=p\n",
        "teste3"
      ],
      "execution_count": 24,
      "outputs": [
        {
          "output_type": "execute_result",
          "data": {
            "text/plain": [
              "array([  4156.16666667, -24873.5       ,  45527.33333333, -24810.        ])"
            ]
          },
          "metadata": {
            "tags": []
          },
          "execution_count": 24
        }
      ]
    },
    {
      "cell_type": "code",
      "metadata": {
        "id": "MC0jC6hNputy",
        "colab_type": "code",
        "outputId": "2fa74ae9-f436-49f7-beb1-914ca5b2e2a0",
        "colab": {
          "base_uri": "https://localhost:8080/",
          "height": 265
        }
      },
      "source": [
        "import matplotlib.pyplot as plt\n",
        "x_axis2 = np.linspace(1, 5,num=5,dtype=int)\n",
        "y_axis2 = np.polyval(teste1, x_axis2)\n",
        "plt.plot(x_axis2, y_axis2)\n",
        "plt.show()"
      ],
      "execution_count": 25,
      "outputs": [
        {
          "output_type": "display_data",
          "data": {
            "image/png": "[encoded data removed]",
            "text/plain": [
              "<Figure size 432x288 with 1 Axes>"
            ]
          },
          "metadata": {
            "tags": [],
            "needs_background": "light"
          }
        }
      ]
    },
    {
      "cell_type": "code",
      "metadata": {
        "id": "3LqgKt7fAcPz",
        "colab_type": "code",
        "outputId": "c634b821-028f-4d3b-cfee-e9652b85eb90",
        "colab": {
          "base_uri": "https://localhost:8080/",
          "height": 297
        }
      },
      "source": [
        "import matplotlib.pyplot as plt\n",
        "\n",
        "meses = ['Janeiro', 'Fevereiro', 'Março', 'Abril', 'Maio']\n",
        "\n",
        "x_axis = np.linspace(1, 5,num=5,dtype=int)\n",
        "y_axis = np.polyval(teste3, x_axis)\n",
        "plt.plot(meses, y_axis, label=\"Recuperados\")\n",
        "\n",
        "x_axis1 = np.linspace(1, 5,num=5,dtype=int)\n",
        "y_axis1 = np.polyval(teste2, x_axis1)\n",
        "plt.plot(x_axis1, y_axis1, label=\"Mortos\")\n",
        "\n",
        "x_axis2 = np.linspace(1, 5,num=5,dtype=int)\n",
        "y_axis2 = np.polyval(teste1, x_axis2)\n",
        "plt.plot(x_axis2, y_axis2,'r--', label=\"Confirmados\")\n",
        "\n",
        "plt.matplotlib.pyplot.title('Análise Coronavírus Janeiro~Maio')\n",
        "plt.matplotlib.pyplot.xlabel('Meses')\n",
        "plt.matplotlib.pyplot.ylabel('Quantidade de Pessoas')\n",
        "\n",
        "plt.legend(bbox_to_anchor=(0, 1.0), loc='upper left')\n",
        "plt.tight_layout()\n",
        "\n",
        "plt.show()"
      ],
      "execution_count": 26,
      "outputs": [
        {
          "output_type": "display_data",
          "data": {
            "image/png": "[encoded data removed]",
            "text/plain": [
              "<Figure size 432x288 with 1 Axes>"
            ]
          },
          "metadata": {
            "tags": [],
            "needs_background": "light"
          }
        }
      ]
    },
    {
      "cell_type": "code",
      "metadata": {
        "id": "cJGVk9BLETa_",
        "colab_type": "code",
        "colab": {}
      },
      "source": [
        ""
      ],
      "execution_count": 0,
      "outputs": []
    }
  ]
}